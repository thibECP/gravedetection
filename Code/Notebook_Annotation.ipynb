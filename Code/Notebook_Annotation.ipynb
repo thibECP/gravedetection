{
 "cells": [
  {
   "cell_type": "code",
   "execution_count": 1,
   "metadata": {
    "collapsed": true
   },
   "outputs": [],
   "source": [
    "import os\n",
    "import cv2\n",
    "import numpy as np"
   ]
  },
  {
   "cell_type": "code",
   "execution_count": 2,
   "metadata": {
    "collapsed": false
   },
   "outputs": [],
   "source": [
    "def getNextNotAnnotatedImage(pathToAnnotate):\n",
    "    '''Goes through the directory pathToAnnotate, looks for the first image that has no corresponding txt file, \n",
    "    i.e. not annotated image, and returns its path'''\n",
    "    \n",
    "    listImagesToAnnotate = os.listdir(pathToAnnotate)\n",
    "    for imageName in listImagesToAnnotate:\n",
    "        if '.jpg' in imageName:\n",
    "            imageNameNoExtension = imageName.replace('.jpg','')\n",
    "            if imageNameNoExtension+'.csv' not in listImagesToAnnotate:\n",
    "                return pathToAnnotate+imageName\n",
    "            \n",
    "    return -1"
   ]
  },
  {
   "cell_type": "code",
   "execution_count": 3,
   "metadata": {
    "collapsed": true
   },
   "outputs": [],
   "source": [
    "def click(event, x, y, flags, param):\n",
    "    # grab references to the global variables\n",
    "    global refPt, cropping\n",
    "\n",
    "    # if the left mouse button was clicked, record the\n",
    "    # (x, y) coordinates\n",
    "    if event == cv2.EVENT_LBUTTONDOWN:\n",
    "        pt = (x, y)\n",
    "        gravePositions.append(pt)\n",
    "\n",
    "        # draw a point where the user has clicked\n",
    "        cv2.circle(clone, pt, 1, (0, 255, 0), 7)\n",
    "        cv2.imshow(\"image\", clone)"
   ]
  },
  {
   "cell_type": "markdown",
   "metadata": {},
   "source": [
    "# Cell that loads the next image to annotate"
   ]
  },
  {
   "cell_type": "code",
   "execution_count": 4,
   "metadata": {
    "collapsed": false
   },
   "outputs": [],
   "source": [
    "pathToAnnotate = '../imagesToAnnotate/'\n",
    "imagePath= getNextNotAnnotatedImage(pathToAnnotate)\n",
    "if imagePath == -1:\n",
    "    print('All of the images in the directory ../imagesToAnnotate are annotated')\n",
    "else:\n",
    "    image = cv2.imread(imagePath)\n",
    "    imageShape = image.shape\n",
    "    \n",
    "    #Resizing the image to make it fit the screen, you may have to change these values depending on your screen resolution\n",
    "    resizingShape = (1200,600)\n",
    "    #######################################\n",
    "    \n",
    "    imageResized = cv2.resize(image, resizingShape)\n",
    "\n",
    "    #create a copy of the image\n",
    "    clone = imageResized.copy()\n",
    "\n",
    "    # initialize the list of grave positions\n",
    "    gravePositions = []\n",
    "\n",
    "    cv2.namedWindow(\"image\")\n",
    "    cv2.setMouseCallback(\"image\", click)\n",
    "\n",
    "    # keep looping until the 'q' key is pressed\n",
    "    while True:\n",
    "        # display the image and wait for a keypress\n",
    "        cv2.imshow(\"image\", clone)\n",
    "        key = cv2.waitKey(1) & 0xFF\n",
    "\n",
    "        # if the 'p' key is pressed, remove the last clicked point from the list\n",
    "        if key == ord('p'):\n",
    "            gravePositions = gravePositions[:-1]\n",
    "            clone = imageResized.copy()\n",
    "            for pt in gravePositions:\n",
    "                cv2.circle(clone, pt, 1, (0, 255, 0), 7)\n",
    "            cv2.imshow(\"image\", clone)\n",
    "\n",
    "\n",
    "        # if the 's' key is pressed, break from the loop and SAVE the grave positions\n",
    "        if key == ord(\"s\"):\n",
    "            imagePathNoExtension = imagePath.replace('.jpg','')\n",
    "            \n",
    "            #Map the grave positions in the resizing shape to the grave positions in the original shape of the image\n",
    "            height, width, _ = imageShape\n",
    "            resizingWidth, resizingHeight = resizingShape\n",
    "            gravePositionsOriginal = [(float(x)/resizingWidth*width,float(y)/resizingHeight*height) for x,y in gravePositions]\n",
    "            \n",
    "            np.savetxt(imagePathNoExtension+'.csv', np.array(gravePositionsOriginal))\n",
    "            break\n",
    "\n",
    "        # if the 'q' key is pressed, break from the loop, DOEST'T SAVE the positions\n",
    "        elif key == ord(\"q\"):\n",
    "            break\n",
    "\n",
    "    # close all open windows\n",
    "    cv2.destroyAllWindows()"
   ]
  },
  {
   "cell_type": "markdown",
   "metadata": {},
   "source": [
    "# How to get the grave positions later"
   ]
  },
  {
   "cell_type": "code",
   "execution_count": 139,
   "metadata": {
    "collapsed": false
   },
   "outputs": [
    {
     "data": {
      "text/plain": [
       "-1"
      ]
     },
     "execution_count": 139,
     "metadata": {},
     "output_type": "execute_result"
    }
   ],
   "source": [
    "imageAnnotated = image.copy()\n",
    "gravePositionsOriginal = np.loadtxt(imagePathNoExtension+'.csv')\n",
    "gravePositionsOriginal = np.array(gravePositionsOriginal).reshape((-1,2))\n",
    "for i in range(len(list(gravePositionsOriginal))):\n",
    "    pt = tuple(gravePositionsOriginal[i,:])\n",
    "    pt = (int(round(pt[0])), int(round(pt[1])))\n",
    "    cv2.circle(imageAnnotated, pt, 1, (0, 255, 0), 7)\n",
    "    \n",
    "imageAnnotatedResized = cv2.resize(imageAnnotated, resizingShape)\n",
    "cv2.imshow('Annotated image', imageAnnotatedResized)\n",
    "cv2.waitKey()    "
   ]
  }
 ],
 "metadata": {
  "anaconda-cloud": {},
  "kernelspec": {
   "display_name": "Python [Root]",
   "language": "python",
   "name": "Python [Root]"
  },
  "language_info": {
   "codemirror_mode": {
    "name": "ipython",
    "version": 3
   },
   "file_extension": ".py",
   "mimetype": "text/x-python",
   "name": "python",
   "nbconvert_exporter": "python",
   "pygments_lexer": "ipython3",
   "version": "3.4.5"
  }
 },
 "nbformat": 4,
 "nbformat_minor": 0
}
